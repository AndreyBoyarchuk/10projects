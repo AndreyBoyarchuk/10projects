{
 "cells": [
  {
   "cell_type": "code",
   "execution_count": 2,
   "metadata": {
    "collapsed": true
   },
   "outputs": [
    {
     "name": "stdout",
     "output_type": "stream",
     "text": [
      "It's one of the cleanest cities\n",
      "It's one of the cleanest cities\n"
     ]
    }
   ],
   "source": [
    "list_of_clean_cities = [\"Chenenne\",\"Kiev\",\"Moscow\"]\n",
    "\n",
    "\n",
    "user_input=\"\"\n",
    "\n",
    "while user_input != \"q\":\n",
    "     user_input=input(\"Enter a city, or q to quit\")\n",
    "     if user_input != \"q\":\n",
    "\n",
    "         for a_clean_city in list_of_clean_cities:\n",
    "             if user_input == a_clean_city:\n",
    "                 print(\"It's one of the cleanest cities\")\n"
   ]
  }
 ],
 "metadata": {
  "kernelspec": {
   "display_name": "Python 3",
   "language": "python",
   "name": "python3"
  },
  "language_info": {
   "codemirror_mode": {
    "name": "ipython",
    "version": 2
   },
   "file_extension": ".py",
   "mimetype": "text/x-python",
   "name": "python",
   "nbconvert_exporter": "python",
   "pygments_lexer": "ipython2",
   "version": "2.7.6"
  }
 },
 "nbformat": 4,
 "nbformat_minor": 0
}